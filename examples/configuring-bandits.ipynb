{
 "cells": [
  {
   "cell_type": "markdown",
   "metadata": {},
   "source": [
    "# Configuring the Solver with Bandits"
   ]
  },
  {
   "cell_type": "markdown",
   "metadata": {},
   "source": [
    "In this tutorial, we are interested in optimizing the \"branching/scorefac\" parameters of SCIP, which controls the way Strong Branching scores are computed when using the sum score function (\"branching/scorefunc = s\"). This parameter has a value of 0.167 in SCIP default.\n",
    "\n",
    "https://www.scipopt.org/doc/html/PARAMETERS.php\n",
    "\n",
    "## Setting up the environment\n",
    "\n",
    "We set up SCIP to use the sum score function, the \"vanillafullstrong\" branching rule to mitigate the impact of branching heuristics, and we deactivate presolving to save running time in this tutorial.\n",
    "\n",
    "We formulate this parameter tuning task as a pure bandit problem, which we instanciate using a `ecole.environment.Configuring` environment without no observation, and the number of nodes as the metric of interest to be minimized."
   ]
  },
  {
   "cell_type": "code",
   "execution_count": 5,
   "metadata": {},
   "outputs": [],
   "source": [
    "import ecole as ec\n",
    "\n",
    "env = ec.environment.Configuring(\n",
    "    scip_params={\n",
    "        \"branching/scorefunc\": 's',  # sum score function\n",
    "        \"branching/vanillafullstrong/priority\": 666666,  # use vanillafullstrong (highest priority)\n",
    "        \"presolving/maxrounds\": 0,  # deactivate presolving\n",
    "#         \"misc/catchctrlc\": False,\n",
    "    },\n",
    "    observation_function=None,  # pure bandit, no observation\n",
    "    reward_function=-ec.reward.NNodes(),  # minimize the total number of nodes\n",
    ")"
   ]
  },
  {
   "cell_type": "markdown",
   "metadata": {},
   "source": [
    "## Setting up the MILP distribution\n",
    "\n",
    "We consider randomly generated Combinatorial Auction problems as the MILP distribution for which we want to optimize SCIP. We set up a generator of small sized instances for the purpose of this tutorial."
   ]
  },
  {
   "cell_type": "code",
   "execution_count": 6,
   "metadata": {},
   "outputs": [],
   "source": [
    "from utilities import InstanceGenerator, generate_cauctions\n",
    "\n",
    "# new instances will be generated on-the-fly\n",
    "instances = InstanceGenerator(generate_cauctions, n_items=100, n_bids=100, add_item_prob=0.7)"
   ]
  },
  {
   "cell_type": "markdown",
   "metadata": {},
   "source": [
    "## Bandit optimization\n",
    "\n",
    "We can now readily solve the optimization problem using an adequate library, such as `scikit-optimize`."
   ]
  },
  {
   "cell_type": "code",
   "execution_count": 23,
   "metadata": {},
   "outputs": [
    {
     "name": "stdout",
     "output_type": "stream",
     "text": [
      "best parameter value: branching/scorefac = 0.07981015615638067\n"
     ]
    }
   ],
   "source": [
    "import sklearn\n",
    "import skopt\n",
    "\n",
    "# filter out irrelevant skopt warnings \n",
    "import warnings\n",
    "warnings.filterwarnings('ignore', message='The objective has been evaluated at this point before.')\n",
    "\n",
    "# make the sampling process determinist\n",
    "seed = 42\n",
    "env.seed(seed)\n",
    "instances.seed(seed)\n",
    "\n",
    "def noisy_function_to_optimize(x):\n",
    "\n",
    "    # pick up a new random instance to set up the episode initial state\n",
    "    with next(instances) as instance_file:\n",
    "        env.reset(instance_file.name)\n",
    "\n",
    "    # apply the action and collect the reward\n",
    "    _, _, reward, _, _ = env.step({\"branching/scorefac\": x[0]})\n",
    "\n",
    "    return -reward  # minimization (thus negated reward)\n",
    "\n",
    "# set up the optimizer\n",
    "opt = skopt.Optimizer(dimensions=[(0.0, 1.0)], base_estimator=\"GP\", n_initial_points=50, acq_func=\"PI\")\n",
    "\n",
    "# actual optimization\n",
    "result = opt.run(noisy_function_to_optimize, n_iter=500)\n",
    "\n",
    "print(f\"best parameter value: branching/scorefac = {result.x[0]}\")"
   ]
  },
  {
   "cell_type": "code",
   "execution_count": 24,
   "metadata": {},
   "outputs": [
    {
     "data": {
      "image/png": "[encoded data removed]",
      "text/plain": [
       "<Figure size 432x288 with 1 Axes>"
      ]
     },
     "metadata": {
      "needs_background": "light"
     },
     "output_type": "display_data"
    }
   ],
   "source": [
    "import matplotlib.pyplot as plt\n",
    "import numpy as np\n",
    "from skopt.acquisition import gaussian_pi\n",
    "\n",
    "def plot_optimizer(opt, x):\n",
    "    model = opt.models[-1]\n",
    "    x_model = opt.space.transform(x.tolist())\n",
    "\n",
    "    # Plot Model(x) + contours\n",
    "    y_pred, sigma = model.predict(x_model, return_std=True)\n",
    "    plt.plot(x, y_pred, \"g--\", label=r\"$\\mu(x)$\")\n",
    "    plt.fill(np.concatenate([x, x[::-1]]),\n",
    "             np.concatenate([y_pred - 1.9600 * sigma,\n",
    "                             (y_pred + 1.9600 * sigma)[::-1]]),\n",
    "             alpha=.2, fc=\"g\", ec=\"None\")\n",
    "\n",
    "    # Plot sampled points\n",
    "    plt.plot(opt.Xi, opt.yi,\n",
    "             \"r.\", markersize=8, label=\"Observations\")\n",
    "\n",
    "    acq = gaussian_pi(x_model, model, y_opt=np.min(opt.yi))\n",
    "    # shift down to make a better plot\n",
    "    acq = 4 * acq - 2\n",
    "    plt.plot(x, acq, \"b\", label=\"PI(x)\")\n",
    "    plt.fill_between(x.ravel(), -2.0, acq.ravel(), alpha=0.3, color='blue')\n",
    "\n",
    "    # Adjust plot layout\n",
    "    plt.grid()\n",
    "    plt.legend(loc='best')\n",
    "\n",
    "plot_optimizer(opt, np.linspace(0, 1, 50).reshape(-1, 1))"
   ]
  },
  {
   "cell_type": "code",
   "execution_count": null,
   "metadata": {},
   "outputs": [],
   "source": []
  }
 ],
 "metadata": {
  "kernelspec": {
   "display_name": "Python 3",
   "language": "python",
   "name": "python3"
  },
  "language_info": {
   "codemirror_mode": {
    "name": "ipython",
    "version": 3
   },
   "file_extension": ".py",
   "mimetype": "text/x-python",
   "name": "python",
   "nbconvert_exporter": "python",
   "pygments_lexer": "ipython3",
   "version": "3.8.3"
  }
 },
 "nbformat": 4,
 "nbformat_minor": 4
}
